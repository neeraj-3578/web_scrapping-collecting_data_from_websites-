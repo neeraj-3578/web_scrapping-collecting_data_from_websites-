{
  "nbformat": 4,
  "nbformat_minor": 0,
  "metadata": {
    "colab": {
      "provenance": []
    },
    "kernelspec": {
      "name": "python3",
      "display_name": "Python 3"
    },
    "language_info": {
      "name": "python"
    }
  },
  "cells": [
    {
      "cell_type": "code",
      "execution_count": 1,
      "metadata": {
        "id": "9IUmDb1NjYCJ"
      },
      "outputs": [],
      "source": [
        "from bs4 import BeautifulSoup\n",
        "import pandas as pd\n",
        "import requests"
      ]
    },
    {
      "cell_type": "code",
      "source": [
        "url = \"https://www.iplt20.com/auction/2022\""
      ],
      "metadata": {
        "id": "cv0g8KywGll_"
      },
      "execution_count": 2,
      "outputs": []
    },
    {
      "cell_type": "code",
      "source": [
        "webpage = requests.get(url)\n",
        "webpage"
      ],
      "metadata": {
        "colab": {
          "base_uri": "https://localhost:8080/"
        },
        "id": "uBEZYSTlGzEK",
        "outputId": "3788f8ed-de6b-435c-89e0-e92c9fcec642"
      },
      "execution_count": 3,
      "outputs": [
        {
          "output_type": "execute_result",
          "data": {
            "text/plain": [
              "<Response [200]>"
            ]
          },
          "metadata": {},
          "execution_count": 3
        }
      ]
    },
    {
      "cell_type": "code",
      "source": [
        "soup = BeautifulSoup(webpage.text,\"lxml\")\n",
        "# print(soup)"
      ],
      "metadata": {
        "id": "9KENgmff-y_p"
      },
      "execution_count": 4,
      "outputs": []
    },
    {
      "cell_type": "code",
      "source": [
        "table = soup.find(\"table\",class_=\"ih-td-tab auction-tbl\")\n",
        "title = table.find_all(\"th\")\n",
        "print(title)"
      ],
      "metadata": {
        "colab": {
          "base_uri": "https://localhost:8080/"
        },
        "id": "NTKA01Q5_WKq",
        "outputId": "497219b7-c232-4efd-e68e-6e36723598a0"
      },
      "execution_count": 5,
      "outputs": [
        {
          "output_type": "stream",
          "name": "stdout",
          "text": [
            "[<th class=\"skip-filter\" style=\"width:25%;text-align: left;\">TEAM</th>, <th class=\"skip-filter\" style=\"width:25%;\">FUNDS REMAINING</th>, <th class=\"skip-filter\" style=\"width:25%;\">OVERSEAS PLAYERS </th>, <th class=\"skip-filter\" style=\"width:25%;\">TOTAL PLAYERS</th>]\n"
          ]
        }
      ]
    },
    {
      "cell_type": "code",
      "source": [
        "header = []"
      ],
      "metadata": {
        "id": "sdj3ImxkBysG"
      },
      "execution_count": 6,
      "outputs": []
    },
    {
      "cell_type": "code",
      "source": [
        "for i in title:\n",
        "  name=i.text\n",
        "  header.append(name)\n",
        "print(header)"
      ],
      "metadata": {
        "colab": {
          "base_uri": "https://localhost:8080/"
        },
        "id": "ZJAUPiN8BgpG",
        "outputId": "f60bff0d-be65-4acd-f286-71efe3d5dc50"
      },
      "execution_count": 7,
      "outputs": [
        {
          "output_type": "stream",
          "name": "stdout",
          "text": [
            "['TEAM', 'FUNDS REMAINING', 'OVERSEAS PLAYERS ', 'TOTAL PLAYERS']\n"
          ]
        }
      ]
    },
    {
      "cell_type": "code",
      "source": [
        "df = pd.DataFrame(columns=header)\n",
        "print(len(df))\n",
        "rows = table.find_all(\"tr\")\n",
        "for i in rows[1:]:\n",
        "  first_td = i.find_all(\"td\")[0].find(\"div\",class_=\"ih-pt-ic\").text.strip()\n",
        "  print(first_td)\n",
        "  data = i.find_all(\"td\")[1:]\n",
        "  print(data)\n",
        "  row = [tr.text for tr in data]\n",
        "  print(row)\n",
        "  row.insert(0,first_td)\n",
        "  l = len(df)\n",
        "  print(l)\n",
        "  df.loc[l] = row\n",
        "  print(df)\n",
        "print(df)"
      ],
      "metadata": {
        "colab": {
          "base_uri": "https://localhost:8080/"
        },
        "id": "DCIL5vb-CINC",
        "outputId": "fbdfb618-c3a4-44b7-e5e3-1a3177621cda"
      },
      "execution_count": 8,
      "outputs": [
        {
          "output_type": "stream",
          "name": "stdout",
          "text": [
            "0\n",
            "Chennai Super Kings\n",
            "[<td>₹2,95,00,000</td>, <td>8</td>, <td>25</td>]\n",
            "['₹2,95,00,000', '8', '25']\n",
            "0\n",
            "                  TEAM FUNDS REMAINING OVERSEAS PLAYERS  TOTAL PLAYERS\n",
            "0  Chennai Super Kings    ₹2,95,00,000                 8            25\n",
            "Delhi Capitals\n",
            "[<td>₹10,00,000</td>, <td>7</td>, <td>24</td>]\n",
            "['₹10,00,000', '7', '24']\n",
            "1\n",
            "                  TEAM FUNDS REMAINING OVERSEAS PLAYERS  TOTAL PLAYERS\n",
            "0  Chennai Super Kings    ₹2,95,00,000                 8            25\n",
            "1       Delhi Capitals      ₹10,00,000                 7            24\n",
            "Gujarat Titans\n",
            "[<td>₹15,00,000</td>, <td>8</td>, <td>23</td>]\n",
            "['₹15,00,000', '8', '23']\n",
            "2\n",
            "                  TEAM FUNDS REMAINING OVERSEAS PLAYERS  TOTAL PLAYERS\n",
            "0  Chennai Super Kings    ₹2,95,00,000                 8            25\n",
            "1       Delhi Capitals      ₹10,00,000                 7            24\n",
            "2       Gujarat Titans      ₹15,00,000                 8            23\n",
            "Kolkata Knight Riders\n",
            "[<td>₹45,00,000</td>, <td>8</td>, <td>25</td>]\n",
            "['₹45,00,000', '8', '25']\n",
            "3\n",
            "                    TEAM FUNDS REMAINING OVERSEAS PLAYERS  TOTAL PLAYERS\n",
            "0    Chennai Super Kings    ₹2,95,00,000                 8            25\n",
            "1         Delhi Capitals      ₹10,00,000                 7            24\n",
            "2         Gujarat Titans      ₹15,00,000                 8            23\n",
            "3  Kolkata Knight Riders      ₹45,00,000                 8            25\n",
            "Lucknow Super Giants\n",
            "[<td>₹0</td>, <td>7</td>, <td>21</td>]\n",
            "['₹0', '7', '21']\n",
            "4\n",
            "                    TEAM FUNDS REMAINING OVERSEAS PLAYERS  TOTAL PLAYERS\n",
            "0    Chennai Super Kings    ₹2,95,00,000                 8            25\n",
            "1         Delhi Capitals      ₹10,00,000                 7            24\n",
            "2         Gujarat Titans      ₹15,00,000                 8            23\n",
            "3  Kolkata Knight Riders      ₹45,00,000                 8            25\n",
            "4   Lucknow Super Giants              ₹0                 7            21\n",
            "Mumbai Indians\n",
            "[<td>₹10,00,000</td>, <td>8</td>, <td>25</td>]\n",
            "['₹10,00,000', '8', '25']\n",
            "5\n",
            "                    TEAM FUNDS REMAINING OVERSEAS PLAYERS  TOTAL PLAYERS\n",
            "0    Chennai Super Kings    ₹2,95,00,000                 8            25\n",
            "1         Delhi Capitals      ₹10,00,000                 7            24\n",
            "2         Gujarat Titans      ₹15,00,000                 8            23\n",
            "3  Kolkata Knight Riders      ₹45,00,000                 8            25\n",
            "4   Lucknow Super Giants              ₹0                 7            21\n",
            "5         Mumbai Indians      ₹10,00,000                 8            25\n",
            "Punjab Kings\n",
            "[<td>₹3,45,00,000</td>, <td>7</td>, <td>25</td>]\n",
            "['₹3,45,00,000', '7', '25']\n",
            "6\n",
            "                    TEAM FUNDS REMAINING OVERSEAS PLAYERS  TOTAL PLAYERS\n",
            "0    Chennai Super Kings    ₹2,95,00,000                 8            25\n",
            "1         Delhi Capitals      ₹10,00,000                 7            24\n",
            "2         Gujarat Titans      ₹15,00,000                 8            23\n",
            "3  Kolkata Knight Riders      ₹45,00,000                 8            25\n",
            "4   Lucknow Super Giants              ₹0                 7            21\n",
            "5         Mumbai Indians      ₹10,00,000                 8            25\n",
            "6           Punjab Kings    ₹3,45,00,000                 7            25\n",
            "Rajasthan Royals\n",
            "[<td>₹95,00,000</td>, <td>8</td>, <td>24</td>]\n",
            "['₹95,00,000', '8', '24']\n",
            "7\n",
            "                    TEAM FUNDS REMAINING OVERSEAS PLAYERS  TOTAL PLAYERS\n",
            "0    Chennai Super Kings    ₹2,95,00,000                 8            25\n",
            "1         Delhi Capitals      ₹10,00,000                 7            24\n",
            "2         Gujarat Titans      ₹15,00,000                 8            23\n",
            "3  Kolkata Knight Riders      ₹45,00,000                 8            25\n",
            "4   Lucknow Super Giants              ₹0                 7            21\n",
            "5         Mumbai Indians      ₹10,00,000                 8            25\n",
            "6           Punjab Kings    ₹3,45,00,000                 7            25\n",
            "7       Rajasthan Royals      ₹95,00,000                 8            24\n",
            "Royal Challengers Bangalore\n",
            "[<td>₹1,55,00,000</td>, <td>8</td>, <td>22</td>]\n",
            "['₹1,55,00,000', '8', '22']\n",
            "8\n",
            "                          TEAM FUNDS REMAINING OVERSEAS PLAYERS  TOTAL PLAYERS\n",
            "0          Chennai Super Kings    ₹2,95,00,000                 8            25\n",
            "1               Delhi Capitals      ₹10,00,000                 7            24\n",
            "2               Gujarat Titans      ₹15,00,000                 8            23\n",
            "3        Kolkata Knight Riders      ₹45,00,000                 8            25\n",
            "4         Lucknow Super Giants              ₹0                 7            21\n",
            "5               Mumbai Indians      ₹10,00,000                 8            25\n",
            "6                 Punjab Kings    ₹3,45,00,000                 7            25\n",
            "7             Rajasthan Royals      ₹95,00,000                 8            24\n",
            "8  Royal Challengers Bangalore    ₹1,55,00,000                 8            22\n",
            "Sunrisers Hyderabad\n",
            "[<td>₹10,00,000</td>, <td>8</td>, <td>23</td>]\n",
            "['₹10,00,000', '8', '23']\n",
            "9\n",
            "                          TEAM FUNDS REMAINING OVERSEAS PLAYERS  TOTAL PLAYERS\n",
            "0          Chennai Super Kings    ₹2,95,00,000                 8            25\n",
            "1               Delhi Capitals      ₹10,00,000                 7            24\n",
            "2               Gujarat Titans      ₹15,00,000                 8            23\n",
            "3        Kolkata Knight Riders      ₹45,00,000                 8            25\n",
            "4         Lucknow Super Giants              ₹0                 7            21\n",
            "5               Mumbai Indians      ₹10,00,000                 8            25\n",
            "6                 Punjab Kings    ₹3,45,00,000                 7            25\n",
            "7             Rajasthan Royals      ₹95,00,000                 8            24\n",
            "8  Royal Challengers Bangalore    ₹1,55,00,000                 8            22\n",
            "9          Sunrisers Hyderabad      ₹10,00,000                 8            23\n",
            "                          TEAM FUNDS REMAINING OVERSEAS PLAYERS  TOTAL PLAYERS\n",
            "0          Chennai Super Kings    ₹2,95,00,000                 8            25\n",
            "1               Delhi Capitals      ₹10,00,000                 7            24\n",
            "2               Gujarat Titans      ₹15,00,000                 8            23\n",
            "3        Kolkata Knight Riders      ₹45,00,000                 8            25\n",
            "4         Lucknow Super Giants              ₹0                 7            21\n",
            "5               Mumbai Indians      ₹10,00,000                 8            25\n",
            "6                 Punjab Kings    ₹3,45,00,000                 7            25\n",
            "7             Rajasthan Royals      ₹95,00,000                 8            24\n",
            "8  Royal Challengers Bangalore    ₹1,55,00,000                 8            22\n",
            "9          Sunrisers Hyderabad      ₹10,00,000                 8            23\n"
          ]
        }
      ]
    },
    {
      "cell_type": "code",
      "source": [
        "df.to_csv(\"ipl_auction_stats.csv\")"
      ],
      "metadata": {
        "id": "sV569WopJPHj"
      },
      "execution_count": 9,
      "outputs": []
    }
  ]
}